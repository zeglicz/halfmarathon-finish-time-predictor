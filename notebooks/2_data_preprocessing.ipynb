{
 "cells": [
  {
   "cell_type": "code",
   "execution_count": null,
   "id": "ae2c9417",
   "metadata": {},
   "outputs": [],
   "source": [
    "import io\n",
    "import boto3\n",
    "from dotenv import dotenv_values\n",
    "import re\n",
    "import pandas as pd\n",
    "from pathlib import Path\n",
    "import numpy as np\n",
    "import seaborn as sns\n",
    "import matplotlib.pyplot as plt\n",
    "import plotly.express as px\n",
    "from ydata_profiling import ProfileReport\n",
    "\n",
    "import sys\n",
    "sys.path.append(str(Path().resolve().parent))\n",
    "from utils.s3_upload import upload_dataframe_to_s3"
   ]
  },
  {
   "cell_type": "code",
   "execution_count": null,
   "id": "a2b832c0",
   "metadata": {},
   "outputs": [],
   "source": [
    "pd.options.display.max_columns = None\n",
    "\n",
    "# DATA_PATH = Path('../data')\n",
    "# PROCESSED_DATA_PATH = DATA_PATH / 'processed'\n",
    "\n",
    "# halfmarathon_df = pd.read_csv(PROCESSED_DATA_PATH / 'halfmarathon_data.csv')"
   ]
  },
  {
   "cell_type": "code",
   "execution_count": null,
   "id": "92463d2b",
   "metadata": {},
   "outputs": [],
   "source": [
    "env = dotenv_values(\".env\")\n",
    "\n",
    "s3 = boto3.client(\n",
    "    \"s3\",\n",
    "    aws_access_key_id=env[\"AWS_ACCESS_KEY\"],\n",
    "    aws_secret_access_key=env[\"AWS_SECRET_KEY\"],\n",
    "    endpoint_url=env[\"AWS_ENDPOINT_URL\"],\n",
    ")\n",
    "\n",
    "BUCKET_NAME = env[\"AWS_BUCKET_NAME\"]\n",
    "\n",
    "s3_key = f'data/processed/halfmarathon_data.csv'\n",
    "response = s3.get_object(Bucket=BUCKET_NAME, Key=s3_key)\n",
    "halfmarathon_df = pd.read_csv(io.BytesIO(response['Body'].read()), sep=';')"
   ]
  },
  {
   "cell_type": "code",
   "execution_count": null,
   "id": "d81e2b51",
   "metadata": {},
   "outputs": [],
   "source": [
    "halfmarathon_df.sample(10)"
   ]
  },
  {
   "cell_type": "code",
   "execution_count": null,
   "id": "22b48923",
   "metadata": {},
   "outputs": [],
   "source": [
    "column_mapping = {\n",
    "    'Miejsce': 'rank_overall',\n",
    "    'Numer startowy': 'bib_number',\n",
    "    'Imię': 'first_name',\n",
    "    'Nazwisko': 'last_name',\n",
    "    'Miasto': 'city',\n",
    "    'Kraj': 'country',\n",
    "    'Drużyna': 'team',\n",
    "    'Płeć': 'gender',\n",
    "    'Płeć Miejsce': 'rank_gender',\n",
    "    'Kategoria wiekowa': 'age_category',\n",
    "    'Kategoria wiekowa Miejsce': 'rank_age_category',\n",
    "    'Rocznik': 'birth_year',\n",
    "    '5 km Czas': 'time_5k',\n",
    "    '5 km Miejsce Open': 'rank_5k',\n",
    "    '5 km Tempo': 'pace_5k',\n",
    "    '10 km Czas': 'time_10k',\n",
    "    '10 km Miejsce Open': 'rank_10k',\n",
    "    '10 km Tempo': 'pace_10k',\n",
    "    '15 km Czas': 'time_15k',\n",
    "    '15 km Miejsce Open': 'rank_15k',\n",
    "    '15 km Tempo': 'pace_15k',\n",
    "    '20 km Czas': 'time_20k',\n",
    "    '20 km Miejsce Open': 'rank_20k',\n",
    "    '20 km Tempo': 'pace_20k',\n",
    "    'Tempo Stabilność': 'pace_stability',\n",
    "    'Czas': 'finish_time',\n",
    "    'Tempo': 'average_pace',\n",
    "    'year': 'halfmarathon_year'\n",
    "}\n",
    "\n",
    "halfmarathon_df.rename(columns=column_mapping, inplace=True)"
   ]
  },
  {
   "cell_type": "code",
   "execution_count": null,
   "id": "f28bb354",
   "metadata": {},
   "outputs": [],
   "source": [
    "halfmarathon_df = halfmarathon_df[halfmarathon_df['rank_overall'].notna()]"
   ]
  },
  {
   "cell_type": "code",
   "execution_count": null,
   "id": "e30b8137",
   "metadata": {},
   "outputs": [],
   "source": [
    "halfmarathon_df.isnull().sum()"
   ]
  },
  {
   "cell_type": "code",
   "execution_count": null,
   "id": "1adaf8bc",
   "metadata": {},
   "outputs": [],
   "source": [
    "halfmarathon_df[halfmarathon_df['birth_year'].isnull() & halfmarathon_df['age_category'].isnull()]"
   ]
  },
  {
   "cell_type": "code",
   "execution_count": null,
   "id": "57b2c85b",
   "metadata": {},
   "outputs": [],
   "source": [
    "def extract_age_range(category):\n",
    "    match = re.search(r'(\\d{2})', str(category))\n",
    "    if match:\n",
    "        lower = int(match.group(1))\n",
    "        upper = lower + 9\n",
    "        return f'{lower}-{upper}'\n",
    "    return None\n",
    "\n",
    "halfmarathon_df['age_range'] = halfmarathon_df['age_category'].apply(extract_age_range)"
   ]
  },
  {
   "cell_type": "code",
   "execution_count": null,
   "id": "979315b0",
   "metadata": {},
   "outputs": [],
   "source": [
    "# halfmarathon_df[halfmarathon_df['age_range'].isnull()]\n",
    "halfmarathon_df = halfmarathon_df[halfmarathon_df['age_range'].notnull()]"
   ]
  },
  {
   "cell_type": "code",
   "execution_count": null,
   "id": "5734ca0c",
   "metadata": {},
   "outputs": [],
   "source": [
    "# halfmarathon_df.isnull().sum()\n",
    "halfmarathon_df = halfmarathon_df.drop(columns=['team'])"
   ]
  },
  {
   "cell_type": "code",
   "execution_count": null,
   "id": "a52a6794",
   "metadata": {},
   "outputs": [],
   "source": [
    "halfmarathon_df.isnull().sum()"
   ]
  },
  {
   "cell_type": "code",
   "execution_count": null,
   "id": "a18ab6eb",
   "metadata": {},
   "outputs": [],
   "source": [
    "# halfmarathon_df.info(max_cols=30)\n",
    "halfmarathon_df.sample(10)"
   ]
  },
  {
   "cell_type": "code",
   "execution_count": null,
   "id": "1dc621c1",
   "metadata": {},
   "outputs": [],
   "source": [
    "def float_minutes_to_seconds(pace):\n",
    "    if pd.isnull(pace):\n",
    "        return np.nan\n",
    "    minutes = int(pace)\n",
    "    seconds = (pace - minutes) * 60\n",
    "    return round(minutes * 60 + seconds)\n",
    "\n",
    "pace_columns = ['pace_5k', 'pace_10k', 'pace_15k', 'pace_20k', 'average_pace']\n",
    "\n",
    "for col in pace_columns:\n",
    "    halfmarathon_df[f'{col}_sec'] = halfmarathon_df[col].apply(float_minutes_to_seconds)\n",
    "    halfmarathon_df.drop(columns=[f'{col}'], inplace=True)"
   ]
  },
  {
   "cell_type": "code",
   "execution_count": null,
   "id": "da089b82",
   "metadata": {},
   "outputs": [],
   "source": [
    "halfmarathon_df.sample(10)\n",
    "# halfmarathon_df.info(max_cols=30)"
   ]
  },
  {
   "cell_type": "code",
   "execution_count": null,
   "id": "7285aa76",
   "metadata": {},
   "outputs": [],
   "source": [
    "time_cols = ['time_5k', 'time_10k', 'time_15k', 'time_20k', 'finish_time']\n",
    "\n",
    "for col in time_cols:\n",
    "    halfmarathon_df[col] = pd.to_datetime(halfmarathon_df[col], format='%H:%M:%S', errors='coerce').dt.time"
   ]
  },
  {
   "cell_type": "code",
   "execution_count": null,
   "id": "36c6f35d",
   "metadata": {},
   "outputs": [],
   "source": [
    "def time_to_seconds(t):\n",
    "    if pd.isnull(t):\n",
    "        return None\n",
    "    return t.hour * 3600 + t.minute * 60 + t.second\n",
    "\n",
    "for col in time_cols:\n",
    "    halfmarathon_df[f'{col}_sec'] = halfmarathon_df[col].apply(time_to_seconds)\n",
    "    halfmarathon_df.drop(columns=[f'{col}'], inplace=True)"
   ]
  },
  {
   "cell_type": "code",
   "execution_count": null,
   "id": "91f8a303",
   "metadata": {},
   "outputs": [],
   "source": [
    "# halfmarathon_df.describe().T\n",
    "\n",
    "# plt.figure(figsize=(8, 6))\n",
    "# sns.boxplot(x=halfmarathon_df['finish_time_sec'])\n",
    "\n",
    "# plt.title('Boxplot of Finish Time (in seconds)')\n",
    "# plt.xlabel('Finish Time (seconds)')\n",
    "# plt.grid(True)\n",
    "# plt.show()\n",
    "\n",
    "# sns.boxplot(x='gender', y='finish_time_sec', data=halfmarathon_df)\n",
    "\n",
    "\n",
    "fig = px.box(halfmarathon_df, y='finish_time_sec', title='Boxplot of Finish Time (in seconds)')\n",
    "fig.update_layout(\n",
    "    yaxis_title='Finish Time (seconds)',\n",
    "    showlegend=False\n",
    ")\n",
    "fig.show()"
   ]
  },
  {
   "cell_type": "code",
   "execution_count": null,
   "id": "774883f6",
   "metadata": {},
   "outputs": [],
   "source": [
    "len(halfmarathon_df)"
   ]
  },
  {
   "cell_type": "code",
   "execution_count": null,
   "id": "73e647c1",
   "metadata": {},
   "outputs": [],
   "source": [
    "Q1 = halfmarathon_df['finish_time_sec'].quantile(0.25)\n",
    "Q3 = halfmarathon_df['finish_time_sec'].quantile(0.75)\n",
    "IQR = Q3 - Q1\n",
    "\n",
    "lower_bound = Q1 - 1.5 * IQR\n",
    "upper_bound = Q3 + 1.5 * IQR\n",
    "\n",
    "halfmarathon_df = halfmarathon_df[\n",
    "    (halfmarathon_df['finish_time_sec'] >= lower_bound) &\n",
    "    (halfmarathon_df['finish_time_sec'] <= upper_bound)\n",
    "]"
   ]
  },
  {
   "cell_type": "code",
   "execution_count": null,
   "id": "1847f1cf",
   "metadata": {},
   "outputs": [],
   "source": [
    "halfmarathon_df.info()"
   ]
  },
  {
   "cell_type": "code",
   "execution_count": null,
   "id": "01a169e0",
   "metadata": {},
   "outputs": [],
   "source": [
    "halfmarathon_df['age'] = halfmarathon_df['halfmarathon_year'] - halfmarathon_df['birth_year']"
   ]
  },
  {
   "cell_type": "code",
   "execution_count": null,
   "id": "d69a5e1c",
   "metadata": {},
   "outputs": [],
   "source": [
    "# halfmarathon_df['age'].isnull().sum()\n",
    "# halfmarathon_df['age_range'].unique()\n",
    "\n",
    "def assign_age_from_range(age_range):\n",
    "    if age_range == '20-29':\n",
    "        return 24.5\n",
    "    elif age_range == '30-39':\n",
    "        return 34.5\n",
    "    elif age_range == '40-49':\n",
    "        return 44.5\n",
    "    elif age_range == '50-59':\n",
    "        return 54.5\n",
    "    elif age_range == '60-69':\n",
    "        return 64.5\n",
    "    elif age_range == '70-79':\n",
    "        return 74.5\n",
    "    elif age_range == '80-89':\n",
    "        return 84.5\n",
    "    else:\n",
    "        return None\n",
    "\n",
    "halfmarathon_df['age'] = halfmarathon_df.apply(\n",
    "    lambda row: assign_age_from_range(row['age_range']) if pd.isnull(row['age']) else row['age'],\n",
    "    axis=1\n",
    ")"
   ]
  },
  {
   "cell_type": "code",
   "execution_count": null,
   "id": "aad63981",
   "metadata": {},
   "outputs": [],
   "source": [
    "columns_to_drop = [\n",
    "    'rank_overall', 'rank_gender', 'rank_age_category', 'rank_5k', 'rank_10k', 'rank_15k', 'rank_20k',\n",
    "    'bib_number', 'first_name', 'last_name',\n",
    "    'city', 'country', 'age_category', 'age_range', 'birth_year', 'halfmarathon_year','average_pace_sec',\n",
    "    'pace_10k_sec', 'pace_15k_sec', 'pace_20k_sec', 'time_10k_sec', 'time_15k_sec', 'time_20k_sec', 'pace_stability'\n",
    "]\n",
    "\n",
    "halfmarathon_df = halfmarathon_df.drop(columns=columns_to_drop)"
   ]
  },
  {
   "cell_type": "code",
   "execution_count": null,
   "id": "2057ee04",
   "metadata": {},
   "outputs": [],
   "source": [
    "halfmarathon_df['gender'] = halfmarathon_df['gender'].map({'K': 0, 'M': 1})"
   ]
  },
  {
   "cell_type": "code",
   "execution_count": null,
   "id": "5110018c",
   "metadata": {},
   "outputs": [],
   "source": [
    "halfmarathon_profile = ProfileReport(halfmarathon_df, title=\"Halfmarathon Profiling Report\", explorative=True)\n",
    "halfmarathon_profile.to_file(\"../reports/profiling/halfmarathon_cleaned_report.html\")"
   ]
  },
  {
   "cell_type": "code",
   "execution_count": null,
   "id": "27b13a8d",
   "metadata": {},
   "outputs": [],
   "source": [
    "# halfmarathon_df.to_csv(PROCESSED_DATA_PATH / 'halfmarathon_cleaned.csv', index=False)"
   ]
  },
  {
   "cell_type": "code",
   "execution_count": null,
   "id": "d0c46698",
   "metadata": {},
   "outputs": [],
   "source": [
    "upload_dataframe_to_s3(\n",
    "    df=halfmarathon_df,\n",
    "    bucket=BUCKET_NAME,\n",
    "    key='data/processed/halfmarathon_cleaned.csv'\n",
    ")"
   ]
  }
 ],
 "metadata": {
  "kernelspec": {
   "display_name": "gotoit-ds",
   "language": "python",
   "name": "python3"
  },
  "language_info": {
   "codemirror_mode": {
    "name": "ipython",
    "version": 3
   },
   "file_extension": ".py",
   "mimetype": "text/x-python",
   "name": "python",
   "nbconvert_exporter": "python",
   "pygments_lexer": "ipython3",
   "version": "3.11.0"
  }
 },
 "nbformat": 4,
 "nbformat_minor": 5
}
