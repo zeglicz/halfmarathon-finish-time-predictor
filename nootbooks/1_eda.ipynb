{
 "cells": [
  {
   "cell_type": "code",
   "execution_count": null,
   "id": "0140f39b",
   "metadata": {},
   "outputs": [],
   "source": [
    "import io\n",
    "import boto3\n",
    "from dotenv import load_dotenv\n",
    "import pandas as pd\n",
    "from pathlib import Path\n",
    "from ydata_profiling import ProfileReport\n",
    "\n",
    "import sys\n",
    "sys.path.append(str(Path().resolve().parent))\n",
    "from utils.s3_upload import upload_dataframe_to_s3"
   ]
  },
  {
   "cell_type": "code",
   "execution_count": null,
   "id": "5a5d54b5",
   "metadata": {},
   "outputs": [],
   "source": [
    "pd.options.display.max_columns = None\n",
    "\n",
    "# DATA_PATH = Path('../data')\n",
    "# RAW_DATA_PATH = DATA_PATH / 'raw'\n",
    "# PROCESSED_DATA_PATH = DATA_PATH / 'processed'\n",
    "\n",
    "# halfmarathon2023_df = pd.read_csv(RAW_DATA_PATH / 'halfmarathon_wroclaw_2023.csv', sep=';')\n",
    "# halfmarathon2024_df = pd.read_csv(RAW_DATA_PATH / 'halfmarathon_wroclaw_2024.csv', sep=';')"
   ]
  },
  {
   "cell_type": "code",
   "execution_count": null,
   "id": "c276ce1c",
   "metadata": {},
   "outputs": [],
   "source": [
    "\n",
    "load_dotenv()\n",
    "\n",
    "s3 = boto3.client('s3')\n",
    "BUCKET_NAME = 'halfmarathon-finish-time-predictor'\n",
    "\n",
    "files_to_load = [\n",
    "    'halfmarathon_wroclaw_2023.csv',\n",
    "    'halfmarathon_wroclaw_2024.csv'\n",
    "]\n",
    "\n",
    "dataframes = {}\n",
    "\n",
    "for file_name in files_to_load:\n",
    "    s3_key = f'data/raw/{file_name}'\n",
    "    response = s3.get_object(Bucket=BUCKET_NAME, Key=s3_key)\n",
    "    df_name = file_name.replace('.csv', '').replace('halfmarathon_wroclaw_', '')\n",
    "    dataframes[f\"halfmarathon{df_name}_df\"] = pd.read_csv(io.BytesIO(response['Body'].read()), sep=';')\n",
    "\n",
    "halfmarathon2023_df = dataframes['halfmarathon2023_df']\n",
    "halfmarathon2024_df = dataframes['halfmarathon2024_df']"
   ]
  },
  {
   "cell_type": "code",
   "execution_count": null,
   "id": "a07de10c",
   "metadata": {},
   "outputs": [],
   "source": [
    "halfmarathon2023_df.sample(8)"
   ]
  },
  {
   "cell_type": "code",
   "execution_count": null,
   "id": "e86b2f6d",
   "metadata": {},
   "outputs": [],
   "source": [
    "halfmarathon2024_df.sample(8)"
   ]
  },
  {
   "cell_type": "code",
   "execution_count": null,
   "id": "26d9d61a",
   "metadata": {},
   "outputs": [],
   "source": [
    "halfmarathon2024_df.columns == halfmarathon2023_df.columns"
   ]
  },
  {
   "cell_type": "code",
   "execution_count": null,
   "id": "eeaa05e7",
   "metadata": {},
   "outputs": [],
   "source": [
    "halfmarathon2023_df[\"year\"] = 2023\n",
    "halfmarathon2024_df[\"year\"] = 2024\n",
    "\n",
    "halfmarathon_df = pd.concat([halfmarathon2023_df, halfmarathon2024_df], ignore_index=True)"
   ]
  },
  {
   "cell_type": "code",
   "execution_count": null,
   "id": "9ae201fc",
   "metadata": {},
   "outputs": [],
   "source": [
    "halfmarathon_df.shape"
   ]
  },
  {
   "cell_type": "code",
   "execution_count": null,
   "id": "c80eeb86",
   "metadata": {},
   "outputs": [],
   "source": [
    "# returning_runners_df = halfmarathon_df[\n",
    "#     halfmarathon_df.duplicated(subset=['Imię', 'Nazwisko']) &\n",
    "#     ~(halfmarathon_df['Imię'].str.lower() == 'anonimowy') & ~(halfmarathon_df['Nazwisko'].str.lower() == 'zawodnik')\n",
    "# ]\n",
    "\n",
    "returning_runners_df = halfmarathon_df[\n",
    "    ~(halfmarathon_df['Imię'].str.lower() == 'anonimowy') &\n",
    "    ~(halfmarathon_df['Nazwisko'].str.lower() == 'zawodnik')\n",
    "].groupby(['Imię', 'Nazwisko'])\\\n",
    " .filter(lambda x: len(x) > 1)"
   ]
  },
  {
   "cell_type": "code",
   "execution_count": null,
   "id": "fdd59eb2",
   "metadata": {},
   "outputs": [],
   "source": [
    "returning_runners_df[returning_runners_df['Nazwisko'] == 'ŻYTKOWSKI']\n",
    "# returning_runners_df[returning_runners_df['Nazwisko'] == 'ĆWIERTNIA']\n",
    "# returning_runners_df[returning_runners_df['Nazwisko'] == 'MASŁOWSKI']"
   ]
  },
  {
   "cell_type": "code",
   "execution_count": null,
   "id": "d5d9aeaf",
   "metadata": {},
   "outputs": [],
   "source": [
    "# ~4750 people took part in 2024 and 2025 year\n",
    "returning_runners_df.shape"
   ]
  },
  {
   "cell_type": "code",
   "execution_count": null,
   "id": "cf40a6aa",
   "metadata": {},
   "outputs": [],
   "source": [
    "returning_runners_df[returning_runners_df['Miejsce'].notna()].shape"
   ]
  },
  {
   "cell_type": "code",
   "execution_count": null,
   "id": "3979786d",
   "metadata": {},
   "outputs": [],
   "source": [
    "pd.set_option('display.max_info_columns', 50)\n",
    "halfmarathon_df.info(max_cols=40)"
   ]
  },
  {
   "cell_type": "code",
   "execution_count": null,
   "id": "8b49462d",
   "metadata": {},
   "outputs": [],
   "source": [
    "halfmarathon_df.dtypes"
   ]
  },
  {
   "cell_type": "code",
   "execution_count": null,
   "id": "7cde5b44",
   "metadata": {},
   "outputs": [],
   "source": [
    "halfmarathon_df.isnull().sum()"
   ]
  },
  {
   "cell_type": "code",
   "execution_count": null,
   "id": "fafdf2c3",
   "metadata": {},
   "outputs": [],
   "source": [
    "halfmarathon_df[halfmarathon_df['20 km Tempo'].isnull()]"
   ]
  },
  {
   "cell_type": "code",
   "execution_count": null,
   "id": "dc24d588",
   "metadata": {},
   "outputs": [],
   "source": [
    "halfmarathon_df.duplicated().sum()"
   ]
  },
  {
   "cell_type": "code",
   "execution_count": null,
   "id": "5990b149",
   "metadata": {},
   "outputs": [],
   "source": [
    "halfmarathon_df.describe().T"
   ]
  },
  {
   "cell_type": "code",
   "execution_count": null,
   "id": "d8232dce",
   "metadata": {},
   "outputs": [],
   "source": [
    "halfmarathon_df['Płeć'].value_counts()"
   ]
  },
  {
   "cell_type": "code",
   "execution_count": null,
   "id": "7802e454",
   "metadata": {},
   "outputs": [],
   "source": [
    "halfmarathon_df['Kategoria wiekowa'].value_counts()"
   ]
  },
  {
   "cell_type": "code",
   "execution_count": null,
   "id": "dbddfae5",
   "metadata": {},
   "outputs": [],
   "source": [
    "halfmarathon_df['Kraj'].value_counts().head(10)"
   ]
  },
  {
   "cell_type": "code",
   "execution_count": null,
   "id": "159351bc",
   "metadata": {},
   "outputs": [],
   "source": [
    "halfmarathon_profile = ProfileReport(halfmarathon_df, title=\"Halfmarathon Profiling Report\", explorative=True)\n",
    "halfmarathon_profile.to_file(\"../reports/profiling/halfmarathon_data_report.html\")"
   ]
  },
  {
   "cell_type": "code",
   "execution_count": null,
   "id": "8e71d40a",
   "metadata": {},
   "outputs": [],
   "source": [
    "# halfmarathon_df.to_csv(PROCESSED_DATA_PATH / 'halfmarathon_data.csv', index=False)"
   ]
  },
  {
   "cell_type": "code",
   "execution_count": null,
   "id": "f25cd769",
   "metadata": {},
   "outputs": [],
   "source": [
    "upload_dataframe_to_s3(\n",
    "    df=halfmarathon_df,\n",
    "    bucket=BUCKET_NAME,\n",
    "    key='data/processed/halfmarathon_data.csv'\n",
    ")"
   ]
  }
 ],
 "metadata": {
  "kernelspec": {
   "display_name": "gotoit-ds",
   "language": "python",
   "name": "python3"
  },
  "language_info": {
   "codemirror_mode": {
    "name": "ipython",
    "version": 3
   },
   "file_extension": ".py",
   "mimetype": "text/x-python",
   "name": "python",
   "nbconvert_exporter": "python",
   "pygments_lexer": "ipython3",
   "version": "3.11.0"
  }
 },
 "nbformat": 4,
 "nbformat_minor": 5
}
