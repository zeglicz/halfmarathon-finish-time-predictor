{
 "cells": [
  {
   "cell_type": "code",
   "execution_count": null,
   "id": "4ed7ab28",
   "metadata": {},
   "outputs": [],
   "source": [
    "import pandas as pd\n",
    "import pandera as pa\n",
    "from pandera import Column, DataFrameSchema, Check\n",
    "from sklearn.model_selection import train_test_split\n",
    "from pycaret.regression import (\n",
    "    setup,\n",
    "    compare_models,\n",
    "    plot_model,\n",
    "    finalize_model,\n",
    "    save_model,\n",
    "    predict_model,\n",
    ")"
   ]
  },
  {
   "cell_type": "code",
   "execution_count": null,
   "id": "e43c7c1c",
   "metadata": {},
   "outputs": [],
   "source": [
    "halfmarathon_df = pd.read_csv('../data/processed/halfmarathon_cleaned.csv')"
   ]
  },
  {
   "cell_type": "code",
   "execution_count": null,
   "id": "151182f2",
   "metadata": {},
   "outputs": [],
   "source": [
    "halfmarathon_df.sample(5)\n",
    "# halfmarathon_df.info()\n"
   ]
  },
  {
   "cell_type": "code",
   "execution_count": null,
   "id": "7df4047b",
   "metadata": {},
   "outputs": [],
   "source": [
    "schema = DataFrameSchema(\n",
    "    {\n",
    "        'gender': Column(\n",
    "            pa.Int,\n",
    "            checks=Check.in_range(0, 1),\n",
    "            coerce=True,\n",
    "            nullable=False\n",
    "        ),\n",
    "        'pace_5k_sec': Column(\n",
    "            pa.Float,\n",
    "            checks=Check.in_range(0, 765),\n",
    "            coerce=True,\n",
    "            nullable=True\n",
    "        ),\n",
    "        'time_5k_sec': Column(\n",
    "            pa.Float,\n",
    "            checks=Check.in_range(0, 3825),\n",
    "            coerce=True,\n",
    "            nullable=True\n",
    "        ),\n",
    "        'finish_time_sec': Column(\n",
    "            pa.Int,\n",
    "            checks=Check.in_range(3550, 10550),\n",
    "            coerce=True,\n",
    "            nullable=False\n",
    "        ),\n",
    "        'age': Column(\n",
    "            pa.Int,\n",
    "            checks=Check.in_range(6, 120),\n",
    "            coerce=True,\n",
    "            nullable=False\n",
    "        )\n",
    "    }\n",
    ")"
   ]
  },
  {
   "cell_type": "code",
   "execution_count": null,
   "id": "1b1607cd",
   "metadata": {},
   "outputs": [],
   "source": [
    "schema.validate(halfmarathon_df)"
   ]
  },
  {
   "cell_type": "code",
   "execution_count": null,
   "id": "20e30908",
   "metadata": {},
   "outputs": [],
   "source": [
    "X = halfmarathon_df.drop('finish_time_sec', axis=1)\n",
    "y = halfmarathon_df['finish_time_sec']\n",
    "\n",
    "X_train, X_test, y_train, y_test = train_test_split(X, y,\n",
    "                                                    test_size=0.1,\n",
    "                                                    random_state=88)"
   ]
  },
  {
   "cell_type": "code",
   "execution_count": null,
   "id": "eb025ba1",
   "metadata": {},
   "outputs": [],
   "source": [
    "train_df = pd.concat([X_train, y_train], axis=1)\n",
    "test_df = pd.concat([X_test, y_test], axis=1)"
   ]
  },
  {
   "cell_type": "code",
   "execution_count": null,
   "id": "d79f0c3e",
   "metadata": {},
   "outputs": [],
   "source": [
    "exp = setup(data=train_df, target='finish_time_sec' ,session_id=88, categorical_features=['gender'])\n",
    "\n",
    "# normalized_exp = setup(data=halfmarathon_df, target='finish_time_sec' ,session_id=123, normalize=True, normalize_method='zscore',categorical_features=['gender'])"
   ]
  },
  {
   "cell_type": "code",
   "execution_count": null,
   "id": "c77f456b",
   "metadata": {},
   "outputs": [],
   "source": [
    "best_models = exp.compare_models(sort='MSE', n_select=5)\n",
    "# best_models_normalized = exp.compare_models(sort='MAE', n_select=5)"
   ]
  },
  {
   "cell_type": "code",
   "execution_count": null,
   "id": "fdbfd88e",
   "metadata": {},
   "outputs": [],
   "source": [
    "tuned_best_models = [exp.tune_model(m, optimize='RMSE') for m in best_models]"
   ]
  },
  {
   "cell_type": "code",
   "execution_count": null,
   "id": "5bcb31b7",
   "metadata": {},
   "outputs": [],
   "source": [
    "best_model = exp.compare_models(best_models + tuned_best_models, sort=\"RMSE\")"
   ]
  },
  {
   "cell_type": "code",
   "execution_count": null,
   "id": "f6994489",
   "metadata": {},
   "outputs": [],
   "source": [
    "# exp.plot_model(best_model, plot='error')\n",
    "exp.plot_model(best_model, plot='feature')\n",
    "# exp.plot_model(best_model, plot='manifold')"
   ]
  },
  {
   "cell_type": "code",
   "execution_count": null,
   "id": "1f743fb8",
   "metadata": {},
   "outputs": [],
   "source": [
    "best_final_model = exp.finalize_model(best_model)"
   ]
  },
  {
   "cell_type": "code",
   "execution_count": null,
   "id": "d137a493",
   "metadata": {},
   "outputs": [],
   "source": [
    "predict_model(best_final_model, data=test_df)"
   ]
  },
  {
   "cell_type": "code",
   "execution_count": null,
   "id": "be7c3da7",
   "metadata": {},
   "outputs": [],
   "source": [
    "final_train = pd.concat([train_df, test_df])"
   ]
  },
  {
   "cell_type": "code",
   "execution_count": null,
   "id": "b8066de4",
   "metadata": {},
   "outputs": [],
   "source": [
    "exp_all= setup(data=final_train, target='finish_time_sec', session_id=88)"
   ]
  },
  {
   "cell_type": "code",
   "execution_count": null,
   "id": "e6ef5695",
   "metadata": {},
   "outputs": [],
   "source": [
    "final_model = finalize_model(best_model)"
   ]
  },
  {
   "cell_type": "code",
   "execution_count": null,
   "id": "30738e5a",
   "metadata": {},
   "outputs": [],
   "source": [
    "save_model(final_model, '../models/halfmarathon_predictor')"
   ]
  }
 ],
 "metadata": {
  "kernelspec": {
   "display_name": "gotoit-ds",
   "language": "python",
   "name": "python3"
  },
  "language_info": {
   "codemirror_mode": {
    "name": "ipython",
    "version": 3
   },
   "file_extension": ".py",
   "mimetype": "text/x-python",
   "name": "python",
   "nbconvert_exporter": "python",
   "pygments_lexer": "ipython3",
   "version": "3.11.0"
  }
 },
 "nbformat": 4,
 "nbformat_minor": 5
}
